{
 "cells": [
  {
   "cell_type": "code",
   "execution_count": 111,
   "id": "05df61d3-e287-408b-9260-74aa344ce467",
   "metadata": {},
   "outputs": [
    {
     "name": "stdout",
     "output_type": "stream",
     "text": [
      "Q . . . . . . .\n",
      ". . . . Q . . .\n",
      ". . . . . . . Q\n",
      ". . . . . Q . .\n",
      ". . Q . . . . .\n",
      ". . . . . . Q .\n",
      ". Q . . . . . .\n",
      ". . . Q . . . .\n",
      "\n"
     ]
    }
   ],
   "source": [
    "N=8 #Number of queens and chessboard (N x N)\n",
    "\n",
    "def print_board(board): #Method to print the board when the algorith is done\n",
    "    for row in board: # for each row in board separated from each other\n",
    "        print(\" \".join(row))\n",
    "    print()\n",
    "\n",
    "def noCollision(board,row,col): #Checking if there is collision\n",
    "    for i in range(row): #Queens in the same row = False\n",
    "        if board[i][col] == 'Q':\n",
    "            return False\n",
    "            \n",
    "    for i, j in zip(range(row, -1, -1), range(col, -1, -1)): #Queens in the same negative diagonal = False\n",
    "        if board[i][j] == 'Q':\n",
    "            return False\n",
    "            \n",
    "    for i, j in zip(range(row, -1, -1), range(col, N)): #Queens in the same positive diagonal = False\n",
    "        if board[i][j] == 'Q':\n",
    "            return False\n",
    "            \n",
    "    return True\n",
    "\n",
    "def backtracking(N): #method to check available positions for the queen using noCollsion method\n",
    "    for col in range(N):\n",
    "        if noCollision(board, row, col): #if is true places a queen\n",
    "            board[row][col] = 'Q'\n",
    "\n",
    "        if backtracking(board, row + 1): #calls the same method placing queen in the next row if still no collision then return true\n",
    "                return True\n",
    "\n",
    "        \n",
    "        board[row][col] = '.' #if there is collision then removes the queen and return false\n",
    "\n",
    "    return False\n",
    "    \n",
    "def solution():\n",
    "    board = [['.' for _ in range(N)] for _ in range(N)] #empty chessboard\n",
    "    if not solve_n_queens(board, 0):\n",
    "        print(\"No solution exists\")\n",
    "\n",
    "solution() #prints solution"
   ]
  }
 ],
 "metadata": {
  "kernelspec": {
   "display_name": "Python 3 (ipykernel)",
   "language": "python",
   "name": "python3"
  },
  "language_info": {
   "codemirror_mode": {
    "name": "ipython",
    "version": 3
   },
   "file_extension": ".py",
   "mimetype": "text/x-python",
   "name": "python",
   "nbconvert_exporter": "python",
   "pygments_lexer": "ipython3",
   "version": "3.12.4"
  }
 },
 "nbformat": 4,
 "nbformat_minor": 5
}
